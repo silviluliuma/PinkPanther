{
 "cells": [
  {
   "cell_type": "code",
   "execution_count": 1,
   "id": "8d96592b",
   "metadata": {},
   "outputs": [],
   "source": [
    "import pandas as pd"
   ]
  },
  {
   "cell_type": "code",
   "execution_count": 2,
   "id": "723e3481",
   "metadata": {},
   "outputs": [],
   "source": [
    "diamonds_train = pd.read_csv(\"data/diamonds_train.csv\")\n",
    "diamonds_train = diamonds_train.drop([\"index_id\", \"city_id\", \"city_id.1\", \"index_id.1\", \"cut_id\", \"color_id\", \"color_id.1\", \"clarity_id\", \"cut_id.1\", \"index_id.2\", \"clarity_id.1\"], axis = 1)"
   ]
  },
  {
   "cell_type": "code",
   "execution_count": 3,
   "id": "69c7a194",
   "metadata": {},
   "outputs": [],
   "source": [
    "city_encoded = pd.get_dummies(diamonds_train[\"city\"], dtype=int)\n",
    "diamonds_train = pd.concat([diamonds_train, city_encoded], axis = 1)\n",
    "color_encoded = pd.get_dummies(diamonds_train[\"color\"], dtype=int)\n",
    "diamonds_train = pd.concat([diamonds_train, color_encoded], axis = 1)\n",
    "cut_encoded = pd.get_dummies(diamonds_train[\"cut\"], dtype=int)\n",
    "diamonds_train = pd.concat([diamonds_train, cut_encoded], axis = 1)\n",
    "clarity_encoded = pd.get_dummies(diamonds_train[\"clarity\"], dtype=int)\n",
    "diamonds_train = pd.concat([diamonds_train, clarity_encoded], axis = 1)"
   ]
  },
  {
   "cell_type": "code",
   "execution_count": 4,
   "id": "27d7c35a",
   "metadata": {},
   "outputs": [],
   "source": [
    "diamonds_train = diamonds_train.drop([\"city\", \"color\", \"cut\",\"clarity\"], axis=1)"
   ]
  },
  {
   "cell_type": "markdown",
   "id": "49214e87",
   "metadata": {},
   "source": [
    "EXPLORACIÓN Y TRANSFORMACIONES DE DIAMONDS_TEST"
   ]
  },
  {
   "cell_type": "code",
   "execution_count": 5,
   "id": "d5580d80",
   "metadata": {},
   "outputs": [],
   "source": [
    "diamonds_test = pd.read_csv(\"data/diamonds_test.csv\")\n",
    "city_encoded = pd.get_dummies(diamonds_test[\"city\"], dtype=int)\n",
    "diamonds_test = pd.concat([diamonds_test, city_encoded], axis = 1)\n",
    "color_encoded = pd.get_dummies(diamonds_test[\"color\"], dtype=int)\n",
    "diamonds_test = pd.concat([diamonds_test, color_encoded], axis = 1)\n",
    "cut_encoded = pd.get_dummies(diamonds_test[\"cut\"], dtype=int)\n",
    "diamonds_test = pd.concat([diamonds_test, cut_encoded], axis = 1)\n",
    "clarity_encoded = pd.get_dummies(diamonds_test[\"clarity\"], dtype=int)\n",
    "diamonds_test = pd.concat([diamonds_test, clarity_encoded], axis = 1)\n",
    "diamonds_test = diamonds_test.drop([\"city\", \"color\", \"cut\",\"clarity\", \"id\"], axis=1)"
   ]
  }
 ],
 "metadata": {
  "kernelspec": {
   "display_name": "sklearn_env",
   "language": "python",
   "name": "sklearn_env"
  },
  "language_info": {
   "codemirror_mode": {
    "name": "ipython",
    "version": 3
   },
   "file_extension": ".py",
   "mimetype": "text/x-python",
   "name": "python",
   "nbconvert_exporter": "python",
   "pygments_lexer": "ipython3",
   "version": "3.12.1"
  }
 },
 "nbformat": 4,
 "nbformat_minor": 5
}
