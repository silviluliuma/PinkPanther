{
 "cells": [
  {
   "cell_type": "code",
   "execution_count": 1,
   "id": "8d96592b",
   "metadata": {},
   "outputs": [],
   "source": [
    "import pandas as pd"
   ]
  },
  {
   "cell_type": "code",
   "execution_count": 2,
   "id": "723e3481",
   "metadata": {},
   "outputs": [],
   "source": [
    "diamonds_train = pd.read_csv(\"data/diamonds_train.csv\")\n",
    "diamonds_train = diamonds_train.drop([\"index_id\", \"city_id\", \"city_id.1\", \"index_id.1\", \"cut_id\", \"color_id\", \"color_id.1\", \"clarity_id\", \"cut_id.1\", \"index_id.2\", \"clarity_id.1\"], axis = 1)"
   ]
  },
  {
   "cell_type": "code",
   "execution_count": 3,
   "id": "69c7a194",
   "metadata": {},
   "outputs": [],
   "source": [
    "city_encoded = pd.get_dummies(diamonds_train[\"city\"], dtype=int)\n",
    "diamonds_train = pd.concat([diamonds_train, city_encoded], axis = 1)\n",
    "color_encoded = pd.get_dummies(diamonds_train[\"color\"], dtype=int)\n",
    "diamonds_train = pd.concat([diamonds_train, color_encoded], axis = 1)\n",
    "cut_encoded = pd.get_dummies(diamonds_train[\"cut\"], dtype=int)\n",
    "diamonds_train = pd.concat([diamonds_train, cut_encoded], axis = 1)\n",
    "clarity_encoded = pd.get_dummies(diamonds_train[\"clarity\"], dtype=int)\n",
    "diamonds_train = pd.concat([diamonds_train, clarity_encoded], axis = 1)"
   ]
  },
  {
   "cell_type": "code",
   "execution_count": 4,
   "id": "27d7c35a",
   "metadata": {},
   "outputs": [],
   "source": [
    "diamonds_train = diamonds_train.drop([\"city\", \"color\", \"cut\",\"clarity\"], axis=1)"
   ]
  },
  {
   "cell_type": "markdown",
   "id": "49214e87",
   "metadata": {},
   "source": [
    "EXPLORACIÓN Y TRANSFORMACIONES DE DIAMONDS_TEST"
   ]
  },
  {
   "cell_type": "code",
   "execution_count": 5,
   "id": "d5580d80",
   "metadata": {},
   "outputs": [],
   "source": [
    "diamonds_test = pd.read_csv(\"data/diamonds_test.csv\")\n",
    "city_encoded = pd.get_dummies(diamonds_test[\"city\"], dtype=int)\n",
    "diamonds_test = pd.concat([diamonds_test, city_encoded], axis = 1)\n",
    "color_encoded = pd.get_dummies(diamonds_test[\"color\"], dtype=int)\n",
    "diamonds_test = pd.concat([diamonds_test, color_encoded], axis = 1)\n",
    "cut_encoded = pd.get_dummies(diamonds_test[\"cut\"], dtype=int)\n",
    "diamonds_test = pd.concat([diamonds_test, cut_encoded], axis = 1)\n",
    "clarity_encoded = pd.get_dummies(diamonds_test[\"clarity\"], dtype=int)\n",
    "diamonds_test = pd.concat([diamonds_test, clarity_encoded], axis = 1)\n",
    "diamonds_test = diamonds_test.drop([\"city\", \"color\", \"cut\",\"clarity\", \"id\"], axis=1)"
   ]
  },
  {
   "cell_type": "markdown",
   "id": "04428f23",
   "metadata": {},
   "source": [
    "GRADIENT BOOSTING REGRESSOR"
   ]
  },
  {
   "cell_type": "code",
   "execution_count": 6,
   "id": "88b5efaf",
   "metadata": {},
   "outputs": [],
   "source": [
    "from sklearn.ensemble import GradientBoostingRegressor\n",
    "import numpy as np\n",
    "import pandas as pd\n",
    "import matplotlib.pyplot as plt\n",
    "\n",
    "from sklearn import datasets\n",
    "from sklearn.datasets import make_regression\n",
    "from sklearn.model_selection import train_test_split\n",
    "from sklearn.model_selection import cross_val_score\n",
    "from sklearn.metrics import mean_squared_error\n",
    "from sklearn.model_selection import GridSearchCV\n",
    "from sklearn.model_selection import RandomizedSearchCV"
   ]
  },
  {
   "cell_type": "code",
   "execution_count": 7,
   "id": "a1a0cf6a",
   "metadata": {},
   "outputs": [],
   "source": [
    "X = diamonds_train.drop(columns=['price'])\n",
    "y = diamonds_train[\"price\"]\n",
    "\n",
    "X_train, X_test, y_train, y_test = train_test_split(X, y, test_size=0.2, random_state=42)"
   ]
  },
  {
   "cell_type": "code",
   "execution_count": 10,
   "id": "0942d66d",
   "metadata": {},
   "outputs": [],
   "source": [
    "regressor = GradientBoostingRegressor(random_state = 42)\n",
    "\n",
    "\"\"\"scores = cross_val_score(regressor, \n",
    "                         X, \n",
    "                         y, \n",
    "                         scoring='neg_root_mean_squared_error', \n",
    "                         cv=5,\n",
    "                         n_jobs=-1)\"\"\"\n",
    "\n",
    "hyperparameters = regressor.get_params()\n",
    "regressor.fit(X_train, y_train)\n",
    "y_pred = regressor.predict(X_test)"
   ]
  },
  {
   "cell_type": "code",
   "execution_count": 11,
   "id": "74cdb2a1",
   "metadata": {},
   "outputs": [
    {
     "name": "stderr",
     "output_type": "stream",
     "text": [
      "/Users/SilviaMV/miniconda3/envs/sklearn-env/lib/python3.12/site-packages/sklearn/metrics/_regression.py:483: FutureWarning: 'squared' is deprecated in version 1.4 and will be removed in 1.6. To calculate the root mean squared error, use the function'root_mean_squared_error'.\n",
      "  warnings.warn(\n"
     ]
    },
    {
     "data": {
      "text/plain": [
       "717.3256109142746"
      ]
     },
     "execution_count": 11,
     "metadata": {},
     "output_type": "execute_result"
    }
   ],
   "source": [
    "rmse = mean_squared_error(y_test, y_pred, squared=False)\n",
    "rmse"
   ]
  }
 ],
 "metadata": {
  "kernelspec": {
   "display_name": "sklearn_env",
   "language": "python",
   "name": "sklearn_env"
  },
  "language_info": {
   "codemirror_mode": {
    "name": "ipython",
    "version": 3
   },
   "file_extension": ".py",
   "mimetype": "text/x-python",
   "name": "python",
   "nbconvert_exporter": "python",
   "pygments_lexer": "ipython3",
   "version": "3.12.1"
  }
 },
 "nbformat": 4,
 "nbformat_minor": 5
}
