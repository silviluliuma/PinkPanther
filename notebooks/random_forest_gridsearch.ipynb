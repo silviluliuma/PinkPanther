{
 "cells": [
  {
   "cell_type": "code",
   "execution_count": 6,
   "id": "8d96592b",
   "metadata": {},
   "outputs": [],
   "source": [
    "import numpy as np\n",
    "import pandas as pd\n",
    "import matplotlib.pyplot as plt\n",
    "\n",
    "from sklearn import datasets\n",
    "from sklearn.datasets import make_regression\n",
    "from sklearn.model_selection import train_test_split\n",
    "import pickle\n",
    "import joblib\n",
    "\n",
    "from sklearn.linear_model import LinearRegression\n",
    "from sklearn.svm import SVR\n",
    "from sklearn.linear_model import SGDRegressor\n",
    "from sklearn.ensemble import RandomForestRegressor\n",
    "\n",
    "from sklearn.metrics import mean_squared_error\n",
    "from sklearn.metrics import r2_score"
   ]
  },
  {
   "cell_type": "code",
   "execution_count": 2,
   "id": "723e3481",
   "metadata": {},
   "outputs": [],
   "source": [
    "diamonds_train = pd.read_csv(\"data/diamonds_train.csv\")\n",
    "diamonds_train = diamonds_train.drop([\"index_id\", \"city_id\", \"city_id.1\", \"index_id.1\", \"cut_id\", \"color_id\", \"color_id.1\", \"clarity_id\", \"cut_id.1\", \"index_id.2\", \"clarity_id.1\"], axis = 1)"
   ]
  },
  {
   "cell_type": "code",
   "execution_count": 3,
   "id": "69c7a194",
   "metadata": {},
   "outputs": [],
   "source": [
    "city_encoded = pd.get_dummies(diamonds_train[\"city\"], dtype=int)\n",
    "diamonds_train = pd.concat([diamonds_train, city_encoded], axis = 1)\n",
    "color_encoded = pd.get_dummies(diamonds_train[\"color\"], dtype=int)\n",
    "diamonds_train = pd.concat([diamonds_train, color_encoded], axis = 1)\n",
    "cut_encoded = pd.get_dummies(diamonds_train[\"cut\"], dtype=int)\n",
    "diamonds_train = pd.concat([diamonds_train, cut_encoded], axis = 1)\n",
    "clarity_encoded = pd.get_dummies(diamonds_train[\"clarity\"], dtype=int)\n",
    "diamonds_train = pd.concat([diamonds_train, clarity_encoded], axis = 1)"
   ]
  },
  {
   "cell_type": "code",
   "execution_count": 4,
   "id": "27d7c35a",
   "metadata": {},
   "outputs": [],
   "source": [
    "diamonds_train = diamonds_train.drop([\"city\", \"color\", \"cut\",\"clarity\"], axis=1)"
   ]
  },
  {
   "cell_type": "markdown",
   "id": "49214e87",
   "metadata": {},
   "source": [
    "EXPLORACIÓN Y TRANSFORMACIONES DE DIAMONDS_TEST"
   ]
  },
  {
   "cell_type": "code",
   "execution_count": 5,
   "id": "d5580d80",
   "metadata": {},
   "outputs": [],
   "source": [
    "diamonds_test = pd.read_csv(\"data/diamonds_test.csv\")\n",
    "city_encoded = pd.get_dummies(diamonds_test[\"city\"], dtype=int)\n",
    "diamonds_test = pd.concat([diamonds_test, city_encoded], axis = 1)\n",
    "color_encoded = pd.get_dummies(diamonds_test[\"color\"], dtype=int)\n",
    "diamonds_test = pd.concat([diamonds_test, color_encoded], axis = 1)\n",
    "cut_encoded = pd.get_dummies(diamonds_test[\"cut\"], dtype=int)\n",
    "diamonds_test = pd.concat([diamonds_test, cut_encoded], axis = 1)\n",
    "clarity_encoded = pd.get_dummies(diamonds_test[\"clarity\"], dtype=int)\n",
    "diamonds_test = pd.concat([diamonds_test, clarity_encoded], axis = 1)\n",
    "diamonds_test = diamonds_test.drop([\"city\", \"color\", \"cut\",\"clarity\", \"id\"], axis=1)"
   ]
  },
  {
   "cell_type": "markdown",
   "id": "b88b66bf",
   "metadata": {},
   "source": [
    "MODELO"
   ]
  },
  {
   "cell_type": "code",
   "execution_count": 7,
   "id": "23c0f74b",
   "metadata": {},
   "outputs": [],
   "source": [
    "X = diamonds_train.drop(columns=['price'])\n",
    "y = diamonds_train[\"price\"]\n",
    "\n",
    "X_train, X_test, y_train, y_test = train_test_split(X, y, test_size=0.2, random_state=42)"
   ]
  },
  {
   "cell_type": "code",
   "execution_count": null,
   "id": "72d7e012",
   "metadata": {},
   "outputs": [
    {
     "name": "stdout",
     "output_type": "stream",
     "text": [
      "Fitting 5 folds for each of 100 candidates, totalling 500 fits\n"
     ]
    }
   ],
   "source": [
    "from sklearn.model_selection import RandomizedSearchCV\n",
    "from sklearn.ensemble import GradientBoostingRegressor\n",
    "from scipy.stats import uniform, randint\n",
    "\n",
    "regressor = RandomForestRegressor()\n",
    "\n",
    "param_dist = {'n_estimators': randint(100, 1000),\n",
    "              'max_depth': [None, 3, 10],\n",
    "              'min_samples_split': randint(2, 10),\n",
    "              'min_samples_leaf': randint(1, 4),\n",
    "              'max_features': [None, 'sqrt', 'log2']}\n",
    "\n",
    "random_search = RandomizedSearchCV(regressor, \n",
    "                                   param_distributions=param_dist, \n",
    "                                   n_iter=100, \n",
    "                                   cv=5, \n",
    "                                   verbose=3, \n",
    "                                   scoring='neg_root_mean_squared_error', \n",
    "                                   random_state=42, \n",
    "                                   n_jobs=-1)\n",
    "\n",
    "random_search.fit(X_train, y_train)\n",
    "\n",
    "y_pred = random_search.best_estimator_.predict(X_test)"
   ]
  },
  {
   "cell_type": "code",
   "execution_count": null,
   "id": "22b63313",
   "metadata": {},
   "outputs": [],
   "source": [
    "rmse = mean_squared_error(y_test, y_pred, squared=False)\n",
    "rmse"
   ]
  }
 ],
 "metadata": {
  "kernelspec": {
   "display_name": "sklearn_env",
   "language": "python",
   "name": "sklearn_env"
  },
  "language_info": {
   "codemirror_mode": {
    "name": "ipython",
    "version": 3
   },
   "file_extension": ".py",
   "mimetype": "text/x-python",
   "name": "python",
   "nbconvert_exporter": "python",
   "pygments_lexer": "ipython3",
   "version": "3.12.1"
  }
 },
 "nbformat": 4,
 "nbformat_minor": 5
}
